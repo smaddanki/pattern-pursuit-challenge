{
 "cells": [
  {
   "cell_type": "markdown",
   "metadata": {},
   "source": [
    "# Feature Analysis and EDA Framework Tutorial\n",
    "\n",
    "This notebook demonstrates how to use the Feature Analysis framework for different types of data:\n",
    "1. Tabular Data (Pandas DataFrame)\n",
    "2. Image Data\n",
    "3. Geospatial Data\n",
    "4. Text Data\n",
    "\n",
    "First, let's import our requirements and set up the framework."
   ]
  },
  {
   "cell_type": "code",
   "execution_count": null,
   "metadata": {},
   "source": [
    "import pandas as pd\n",
    "import numpy as np\n",
    "import matplotlib.pyplot as plt\n",
    "import seaborn as sns\n",
    "from PIL import Image\n",
    "import geopandas as gpd\n",
    "import folium\n",
    "from IPython.display import display, HTML\n",
    "\n",
    "# Copy the FeatureAnalyzer class here\n",
    "# [Previous FeatureAnalyzer code goes here]"
   ]
  },
  {
   "cell_type": "markdown",
   "metadata": {},
   "source": [
    "## 1. Analyzing Tabular Data\n",
    "\n",
    "Let's start with a simple dataset to demonstrate basic functionality."
   ]
  },
  {
   "cell_type": "code",
   "execution_count": null,
   "metadata": {},
   "source": [
    "# Create sample dataset\n",
    "np.random.seed(42)\n",
    "df = pd.DataFrame({\n",
    "    'numeric_feature': np.random.normal(0, 1, 1000),\n",
    "    'categorical_feature': np.random.choice(['A', 'B', 'C'], 1000),\n",
    "    'target': np.random.randint(0, 2, 1000)\n",
    "})\n",
    "\n",
    "# Save temporary CSV\n",
    "df.to_csv('temp_data.csv', index=False)\n",
    "\n",
    "# Initialize analyzer\n",
    "tabular_analyzer = FeatureAnalyzer('temp_data.csv', 'pandas')"
   ]
  },
  {
   "cell_type": "code",
   "execution_count": null,
   "metadata": {},
   "source": [
    "# Perform data quality analysis\n",
    "quality_metrics = tabular_analyzer.analyze_data_quality()\n",
    "print(\"Data Quality Metrics:\")\n",
    "display(pd.DataFrame(quality_metrics))"
   ]
  },
  {
   "cell_type": "code",
   "execution_count": null,
   "metadata": {},
   "source": [
    "# Perform univariate analysis\n",
    "univariate_stats = tabular_analyzer.perform_univariate_analysis()\n",
    "print(\"Univariate Statistics:\")\n",
    "display(pd.DataFrame(univariate_stats))"
   ]
  },
  {
   "cell_type": "code",
   "execution_count": null,
   "metadata": {},
   "source": [
    "# Perform bivariate analysis\n",
    "bivariate_stats = tabular_analyzer.perform_bivariate_analysis(target_column='target')\n",
    "print(\"Bivariate Statistics:\")\n",
    "display(pd.DataFrame(bivariate_stats))"
   ]
  },
  {
   "cell_type": "markdown",
   "metadata": {},
   "source": [
    "## 2. Analyzing Image Data\n",
    "\n",
    "Now let's analyze some image data. We'll create a simple test image first."
   ]
  },
  {
   "cell_type": "code",
   "execution_count": null,
   "metadata": {},
   "source": [
    "# Create a sample image\n",
    "img = Image.fromarray(np.random.randint(0, 255, (100, 100, 3)).astype('uint8'))\n",
    "img.save('temp_image.jpg')\n",
    "\n",
    "# Initialize analyzer\n",
    "image_analyzer = FeatureAnalyzer('temp_image.jpg', 'image')"
   ]
  },
  {
   "cell_type": "code",
   "execution_count": null,
   "metadata": {},
   "source": [
    "# Analyze image quality\n",
    "image_quality = image_analyzer.analyze_data_quality()\n",
    "print(\"Image Quality Metrics:\")\n",
    "display(pd.DataFrame([image_quality]))"
   ]
  },
  {
   "cell_type": "markdown",
   "metadata": {},
   "source": [
    "## 3. Analyzing Geospatial Data\n",
    "\n",
    "Let's create a simple GeoJSON file and analyze it."
   ]
  },
  {
   "cell_type": "code",
   "execution_count": null,
   "metadata": {},
   "source": [
    "# Create sample geospatial data\n",
    "points = [\n",
    "    Point([-73.935242, 40.730610]),  # New York\n",
    "    Point([-122.419416, 37.774929]),  # San Francisco\n",
    "]\n",
    "gdf = gpd.GeoDataFrame(geometry=points)\n",
    "gdf.to_file('temp_geo.geojson', driver='GeoJSON')\n",
    "\n",
    "# Initialize analyzer\n",
    "geo_analyzer = FeatureAnalyzer('temp_geo.geojson', 'geojson')"
   ]
  },
  {
   "cell_type": "code",
   "execution_count": null,
   "metadata": {},
   "source": [
    "# Analyze geospatial quality\n",
    "geo_quality = geo_analyzer.analyze_data_quality()\n",
    "print(\"Geospatial Quality Metrics:\")\n",
    "display(pd.DataFrame([geo_quality]))"
   ]
  },
  {
   "cell_type": "markdown",
   "metadata": {},
   "source": [
    "## 4. Additional Analysis Features\n",
    "\n",
    "Let's demonstrate some additional analysis capabilities."
   ]
  },
  {
   "cell_type": "code",
   "execution_count": null,
   "metadata": {},
   "source": [
    "# Generate visualizations for tabular data\n",
    "tabular_analyzer.generate_visualizations('output_viz')\n",
    "\n",
    "# Display a few visualizations\n",
    "plt.figure(figsize=(15, 5))\n",
    "for i, img_path in enumerate(os.listdir('output_viz')):\n",
    "    if i >= 3:  # Show only first 3 visualizations\n",
    "        break\n",
    "    plt.subplot(1, 3, i+1)\n",
    "    img = plt.imread(f'output_viz/{img_path}')\n",
    "    plt.imshow(img)\n",
    "    plt.axis('off')\n",
    "    plt.title(img_path)\n",
    "plt.tight_layout()\n",
    "plt.show()"
   ]
  },
  {
   "cell_type": "code",
   "execution_count": null,
   "metadata": {},
   "source": [
    "# Generate comprehensive report\n",
    "tabular_analyzer.generate_report('analysis_report.json')\n",
    "\n",
    "# Display report contents\n",
    "with open('analysis_report.json', 'r') as f:\n",
    "    report = json.load(f)\n",
    "print(json.dumps(report, indent=2))"
   ]
  },
  {
   "cell_type": "markdown",
   "metadata": {},
   "source": [
    "## 5. Cleanup\n",
    "\n",
    "Remove temporary files created during the tutorial."
   ]
  },
  {
   "cell_type": "code",
   "execution_count": null,
   "metadata": {},
   "source": [
    "# Cleanup temporary files\n",
    "import os\n",
    "\n",
    "files_to_remove = ['temp_data.csv', 'temp_image.jpg', 'temp_geo.geojson', 'analysis_report.json']\n",
    "for file in files_to_remove:\n",
    "    if os.path.exists(file):\n",
    "        os.remove(file)"
   ]
  },
  {
   "cell_type": "markdown",
   "metadata": {},
   "source": [
    "## Conclusion\n",
    "\n",
    "This notebook demonstrated the key features of our Feature Analysis framework:\n",
    "\n",
    "1. Handling multiple data types\n",
    "2. Comprehensive quality analysis\n",
    "3. Statistical analysis\n",
    "4. Visualization generation\n",
    "5. Report generation\n",
    "\n",
    "You can extend this framework by:\n",
    "- Adding more specialized metrics for each data type\n",
    "- Implementing additional visualization types\n",
    "- Adding export capabilities for different formats\n",
    "- Implementing more advanced statistical analyses"
   ]
  }
 ],
 "metadata": {
  "kernelspec": {
   "display_name": "Python 3",
   "language": "python",
   "name": "python3"
  },
  "language_info": {
   "codemirror_mode": {
    "name": "ipython",
    "version": 3
   },
   "file_extension": ".py",
   "mimetype": "text/x-python",
   "name": "python",
   "nbconvert_exporter": "python",
   "pygments_lexer": "ipython3",
   "version": "3.8.0"
  }
 },
 "nbformat": 4,
 "nbformat_minor": 4
}